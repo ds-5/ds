{
 "cells": [
  {
   "cell_type": "code",
   "execution_count": 3,
   "metadata": {},
   "outputs": [],
   "source": [
    "import numpy as np"
   ]
  },
  {
   "cell_type": "code",
   "execution_count": 1,
   "metadata": {},
   "outputs": [],
   "source": [
    "# Q1\n"
   ]
  },
  {
   "cell_type": "code",
   "execution_count": 2,
   "metadata": {},
   "outputs": [
    {
     "name": "stdout",
     "output_type": "stream",
     "text": [
      "0.5\n"
     ]
    }
   ],
   "source": [
    "# Q2. MLE (p.63)\n",
    "#px_1 = 2/3\n",
    "#px_2 = theta / 3\n",
    "#px_3 = (1-theta) / 3\n",
    "# p(1,1,2,3) = px_1 * px_1 * px_2 * px_3 = (4/81) * theta * (1 - theta)\n",
    "# p'(1,1,2,3) = (4/81) * (1 - 2 * theta)\n",
    "# theta = 1/2 \n",
    "print(0.5)"
   ]
  },
  {
   "cell_type": "code",
   "execution_count": 18,
   "metadata": {},
   "outputs": [
    {
     "name": "stdout",
     "output_type": "stream",
     "text": [
      "(a) [170.4683, 173.7317]\n",
      "(b) 1.2396\n"
     ]
    }
   ],
   "source": [
    "# Q3.interval estimation (p.58~59)\n",
    "data = [172.3, 169.8, 170.4, 171.6, 180.0, 172.5, 168.7, 174.2, 171.5, 170.0]\n",
    "sd = 2\n",
    "n = len(data)\n",
    "E_Xbar = np.mean(data)\n",
    "sd_Xbar = sd/(n**0.5)\n",
    "\n",
    "# (a)\n",
    "# E_Xbar ~ N(mu, (sd**2)/n)\n",
    "# [Xbar - z0.005*sd_Xbar, Xbar + z0.005*sd_Xbar]\n",
    "z = 2.58 # z0.005\n",
    "print('(a) [%.4f, %.4f]' % (E_Xbar - sd_Xbar * z, E_Xbar + sd_Xbar * z))\n",
    "\n",
    "# (b)\n",
    "z = 1.96 # z0.025\n",
    "print('(b) %.4f' % (sd_Xbar * z))\n"
   ]
  },
  {
   "cell_type": "code",
   "execution_count": 22,
   "metadata": {},
   "outputs": [
    {
     "name": "stdout",
     "output_type": "stream",
     "text": [
      "(a) E(X) = E(Xbar) = 175\n",
      "\n",
      "(b) [172.3705, 177.6295]\n"
     ]
    }
   ],
   "source": [
    "# Q4 \n",
    "n = 16\n",
    "E_Xbar = 175\n",
    "Var_Xbar = 36\n",
    "\n",
    "# (a) point estimation ~ t distribution (p.78)\n",
    "# E(X) = E(X_bar)\n",
    "print('(a) E(X) = E(Xbar) = 175\\n')\n",
    "\n",
    "# (b)\n",
    "alpha = 0.05\n",
    "df = n-1  # 15\n",
    "t = 1.753 # from table (df-15, alpha=0.05)\n",
    "print('(b) [%.4f, %.4f]' % (E_Xbar - t * (Var_Xbar**0.5)/(n**0.5), E_Xbar + t * (Var_Xbar**0.5)/(n**0.5)))\n"
   ]
  },
  {
   "cell_type": "code",
   "execution_count": 30,
   "metadata": {},
   "outputs": [
    {
     "name": "stdout",
     "output_type": "stream",
     "text": [
      "(a) P(X=0,5 | X~A) = 0.2000\n",
      "\n",
      "(b) P(X=1,2,3,4,6) | X~B = 0.7000\n"
     ]
    }
   ],
   "source": [
    "# Q5.\n",
    "prob_XA = [0.1, 0.1, 0.1, 0.1, 0.2, 0.1, 0.3]\n",
    "prob_XB = [0.2, 0.1, 0.1, 0.2, 0.2, 0.1, 0.1]\n",
    "\n",
    "\n",
    "# (a)\n",
    "print('(a) P(X=0,5 | X~A) = %.4f\\n' % (prob_XA[0] + prob_XA[5]) )\n",
    "\n",
    "# (b)\n",
    "print('(b) P(X=1,2,3,4,6) | X~B = %.4f' % (1 - prob_XB[0] - prob_XB[5]))"
   ]
  },
  {
   "cell_type": "code",
   "execution_count": 38,
   "metadata": {
    "scrolled": true
   },
   "outputs": [
    {
     "name": "stdout",
     "output_type": "stream",
     "text": [
      "H0 : mu = 50000\n",
      "H1 : mu > 50280\n",
      "n = 400\n",
      "alpha = 0.05\n",
      "sd_X = 3000\n",
      "Xbar = 50280\n",
      "known Var_X. using normal distribution...\n",
      "z = 1.9600\n",
      "p_z = 0.975 > 0.95, cannot reject H0\n"
     ]
    }
   ],
   "source": [
    "# Q6.\n",
    "print('H0 : mu = 50000')\n",
    "print('H1 : mu > 50280')\n",
    "print('n = 400')\n",
    "print('alpha = 0.05')\n",
    "print('sd_X = 3000')\n",
    "print('Xbar = 50280')\n",
    "print('known Var_X. using normal distribution...')\n",
    "z0 = (50280 - 50000) / (3000 / n**0.5)\n",
    "print('z = %.4f' % z) # z = 1.96\n",
    "p_z = 0.9750    # p1.96 = 0.9750 from table..\n",
    "print('p_z = 0.975 > 0.95, cannot reject H0')\n"
   ]
  },
  {
   "cell_type": "code",
   "execution_count": null,
   "metadata": {},
   "outputs": [],
   "source": []
  }
 ],
 "metadata": {
  "kernelspec": {
   "display_name": "Python 3",
   "language": "python",
   "name": "python3"
  },
  "language_info": {
   "codemirror_mode": {
    "name": "ipython",
    "version": 3
   },
   "file_extension": ".py",
   "mimetype": "text/x-python",
   "name": "python",
   "nbconvert_exporter": "python",
   "pygments_lexer": "ipython3",
   "version": "3.7.3"
  }
 },
 "nbformat": 4,
 "nbformat_minor": 2
}
