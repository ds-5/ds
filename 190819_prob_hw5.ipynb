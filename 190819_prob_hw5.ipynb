{
 "cells": [
  {
   "cell_type": "code",
   "execution_count": 4,
   "metadata": {},
   "outputs": [],
   "source": [
    "import numpy as np\n",
    "z0_025 = 2.58\n",
    "z0_01 = 2.326\n",
    "z0_05 = 1.645"
   ]
  },
  {
   "cell_type": "code",
   "execution_count": 5,
   "metadata": {},
   "outputs": [
    {
     "name": "stdout",
     "output_type": "stream",
     "text": [
      "<Q1>\n",
      "(0.7888, 1.8172)\n",
      "H0 : mu = 1.32\n",
      "H1 : mu < 1.32\n",
      "T = -0.0762 < t0 = -1.8600  => false, cannot reject H0\n"
     ]
    }
   ],
   "source": [
    "# Q1. unknown sigma : T ~ t(n-1)\n",
    "print('<Q1>')\n",
    "mu = 1.32\n",
    "Xbar = 1.303\n",
    "S = 0.669\n",
    "n = 9\n",
    "\n",
    "# a. 95% confidence interval\n",
    "t_0025_8 = 2.306 # alpha = 0.025, df = 8\n",
    "ci = (Xbar - t_0025_8 * S / np.sqrt(n), Xbar + t_0025_8 * S / np.sqrt(n) ) \n",
    "print('(%.4f, %.4f)' % (ci[0], ci[1]))\n",
    "\n",
    "# b. significance level = 0.05\n",
    "print('H0 : mu = 1.32')\n",
    "print('H1 : mu < 1.32')\n",
    "T = (Xbar - mu) / ( S / np.sqrt(n))\n",
    "t0 = 1.860 # alpha = 0.05, df = 8\n",
    "print('T = %.4f < t0 = %.4f  => false, cannot reject H0' % (T, - t0))"
   ]
  },
  {
   "cell_type": "code",
   "execution_count": 6,
   "metadata": {},
   "outputs": [
    {
     "name": "stdout",
     "output_type": "stream",
     "text": [
      "<Q2>\n",
      "H0 : mu1 - mu2 = 2\n",
      "H1 : mu1 - mu2 > 2\n",
      "T = 1.4374 > t0 = 1.8330  => false, cannot reject H0\n"
     ]
    }
   ],
   "source": [
    "# Q2. paired t-test\n",
    "print('<Q2>')\n",
    "n=10\n",
    "X1 = [74, 75, 75, 76, 76, 78, 78, 79, 81, 82]\n",
    "X2 = [70, 71, 73, 73, 75, 76, 76, 77, 78, 80]\n",
    "alpha = 0.05\n",
    "mu_D = 2\n",
    "D = [x1 - x2 for x1, x2 in zip(X1, X2)]\n",
    "D_bar = np.mean(D)\n",
    "SD = (1/n) * np.sum([(Di - mu_D)**2 for Di in D])\n",
    "print('H0 : mu1 - mu2 = 2')\n",
    "print('H1 : mu1 - mu2 > 2')\n",
    "T = (D_bar - mu_D) / (SD / np.sqrt(n))\n",
    "t0 = 1.833 # t0.05(9)\n",
    "print('T = %.4f > t0 = %.4f  => false, cannot reject H0' % (T, t0))"
   ]
  },
  {
   "cell_type": "code",
   "execution_count": 7,
   "metadata": {},
   "outputs": [
    {
     "name": "stdout",
     "output_type": "stream",
     "text": [
      "<Q3>\n",
      "H0 : mu_B - mu_A = 0\n",
      "H1 : mu_B - mu_A > 0\n",
      "Z = 0.0679 > z0 = 1.6450  => false, cannot reject H0\n"
     ]
    }
   ],
   "source": [
    "# Q3. known sigma, Z ~ N(0,1)\n",
    "print('<Q3>')\n",
    "XA_bar, XB_bar = 260, 280\n",
    "sigmaA, sigmaB = 625, 625\n",
    "nA, nB = 9, 9\n",
    "alpha = 0.05\n",
    "\n",
    "D_bar = XB_bar - XA_bar\n",
    "mu_D = 0\n",
    "print('H0 : mu_B - mu_A = 0')\n",
    "print('H1 : mu_B - mu_A > 0')\n",
    "Z = (D_bar - mu_D) / np.sqrt(sigmaB**2/nB + sigmaA**2/nA)\n",
    "z0 = 1.645 # z0.05\n",
    "print('Z = %.4f > z0 = %.4f  => false, cannot reject H0' % (Z, z0))\n"
   ]
  },
  {
   "cell_type": "code",
   "execution_count": 8,
   "metadata": {},
   "outputs": [
    {
     "name": "stdout",
     "output_type": "stream",
     "text": [
      "<Q4>\n",
      "H0 : sigma^2 = 1\n",
      "H1 : sigma^2 > 1\n",
      "Chi_square = 34.6275 > Chi0_square = 32.8500  => true, reject H0\n"
     ]
    }
   ],
   "source": [
    "# Q4.  Chi^2~ Chi^2(n-1) --- p.91\n",
    "print('<Q4>')\n",
    "sigma0 = 1\n",
    "n = 20\n",
    "S = 1.35\n",
    "Chi_square = (n-1) * (S**2) / sigma0\n",
    "Chi0_square = 32.85 # alpha = 0.025, df = n - 1 = 19\n",
    "print('H0 : sigma^2 = 1')\n",
    "print('H1 : sigma^2 > 1')\n",
    "print('Chi_square = %.4f > Chi0_square = %.4f  => true, reject H0' % (Chi_square, Chi0_square))\n"
   ]
  },
  {
   "cell_type": "code",
   "execution_count": 45,
   "metadata": {},
   "outputs": [
    {
     "name": "stdout",
     "output_type": "stream",
     "text": [
      "<Q5>\n",
      "H0 : (sigmaB)^2 = (sigmaA)^2\n",
      "H1 : (sigmaB)^2 > (sigmaA)^2\n",
      "F = 5.8000\n",
      "f0 = 2.4000\n",
      "F > f0  => true, reject H0\n"
     ]
    }
   ],
   "source": [
    "# Q5. F-test for equality of two variances (p.93)\n",
    "print('<Q5>')\n",
    "nA, nB = 16, 16\n",
    "SA_square, SB_square = 0.0025, 0.0145\n",
    "alpha = 0.05\n",
    "print('H0 : (sigmaB)^2 = (sigmaA)^2')\n",
    "print('H1 : (sigmaB)^2 > (sigmaA)^2')\n",
    "F = SB_square / SA_square\n",
    "print('F = %.4f' % (F))\n",
    "f0 = 2.40 # F0.05(15,15)\n",
    "print('f0 = %.4f' % (f0))\n",
    "print('F > f0  => true, reject H0')"
   ]
  },
  {
   "cell_type": "code",
   "execution_count": 44,
   "metadata": {},
   "outputs": [
    {
     "name": "stdout",
     "output_type": "stream",
     "text": [
      "<Q6-a>\n",
      "H0 : (sigma1)^2 =  (sigma2)^2\n",
      "H1 : (sigma1)^2 != (sigma2)^2\n",
      "F = 0.9921\n",
      "f0 = F0.025(14,14) = 2.9786\n",
      "f1 = F0.975(14,14) = 0.3357\n",
      "F > f0 or F < f1  => false, cannot reject H0\n",
      "\n",
      "<Q6-b>\n",
      "H0 : mu1 = mu2\n",
      "H1 : mu1 != mu2\n",
      "df = 27.7803 (approx 28.0000)\n",
      "T = -2.2497\n",
      "t0 = 2.0480\n",
      "|T| > t0  => true, reject H0\n"
     ]
    }
   ],
   "source": [
    "# Q6.\n",
    "print('<Q6-a>')\n",
    "n1, n2 = 15, 15\n",
    "X1_bar, X2_bar = 403.2667, 660.4\n",
    "S1_square, S2_square = 97589.352, 98362.686\n",
    "alpha = 0.05\n",
    "# (a)\n",
    "print('H0 : (sigma1)^2 =  (sigma2)^2')\n",
    "print('H1 : (sigma1)^2 != (sigma2)^2')\n",
    "F = S1_square / S2_square\n",
    "print('F = %.4f' % (F))\n",
    "f0 = 2.9786 # F0.025(14,14)\n",
    "f1 = 1/2.9786 # F0.975(14,14)\n",
    "print('f0 = F0.025(14,14) = %.4f' % (f0))\n",
    "print('f1 = F0.975(14,14) = %.4f' % (f1))\n",
    "print('F > f0 or F < f1  => false, cannot reject H0')\n",
    "\n",
    "print('\\n<Q6-b>')\n",
    "print('H0 : mu1 = mu2')\n",
    "print('H1 : mu1 != mu2')\n",
    "df = np.square(S1_square/n1 + S2_square/n2) / ( 1/(n1-1) * np.square(S2_square/n1) + 1/(n2-1) * np.square(S2_square/n2))\n",
    "print('df = %.4f (approx %.4f)' % (df, np.round(df)))\n",
    "T = ((X1_bar - X2_bar) - 0) / np.sqrt(S1_square/n1 + S2_square/n2)\n",
    "print('T = %.4f' % (T))\n",
    "t0 = 2.048 # t0.025(28)\n",
    "print('t0 = %.4f' %(t0))\n",
    "print('|T| > t0  => true, reject H0')"
   ]
  }
 ],
 "metadata": {
  "kernelspec": {
   "display_name": "Python 3",
   "language": "python",
   "name": "python3"
  },
  "language_info": {
   "codemirror_mode": {
    "name": "ipython",
    "version": 3
   },
   "file_extension": ".py",
   "mimetype": "text/x-python",
   "name": "python",
   "nbconvert_exporter": "python",
   "pygments_lexer": "ipython3",
   "version": "3.7.3"
  }
 },
 "nbformat": 4,
 "nbformat_minor": 2
}
