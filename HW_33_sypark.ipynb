{
 "cells": [
  {
   "cell_type": "code",
   "execution_count": 2,
   "metadata": {},
   "outputs": [],
   "source": [
    "import numpy as np\n",
    "from scipy import stats\n",
    "import matplotlib.pyplot as plt"
   ]
  },
  {
   "cell_type": "code",
   "execution_count": 19,
   "metadata": {},
   "outputs": [],
   "source": [
    "#1-(a)\n",
    "samples = np.random.normal(size=500)\n",
    "#print(samples)"
   ]
  },
  {
   "cell_type": "code",
   "execution_count": 20,
   "metadata": {},
   "outputs": [
    {
     "data": {
      "text/plain": [
       "0.03135653590200273"
      ]
     },
     "execution_count": 20,
     "metadata": {},
     "output_type": "execute_result"
    }
   ],
   "source": [
    "#1-(b)\n",
    "sample_center = np.median(samples)\n",
    "sample_center"
   ]
  },
  {
   "cell_type": "code",
   "execution_count": 37,
   "metadata": {},
   "outputs": [
    {
     "name": "stdout",
     "output_type": "stream",
     "text": [
      "1.0684647838274342\n"
     ]
    }
   ],
   "source": [
    "#1-(c)\n",
    "lstd = stats.norm.std(samples)\n",
    "print(std)"
   ]
  },
  {
   "cell_type": "code",
   "execution_count": 27,
   "metadata": {},
   "outputs": [
    {
     "data": {
      "text/plain": [
       "0.840173378017435"
      ]
     },
     "execution_count": 27,
     "metadata": {},
     "output_type": "execute_result"
    }
   ],
   "source": [
    "#1-(d)\n",
    "stats.scoreatpercentile(samples,80)"
   ]
  },
  {
   "cell_type": "code",
   "execution_count": 38,
   "metadata": {},
   "outputs": [
    {
     "name": "stdout",
     "output_type": "stream",
     "text": [
      "-0.015079608907554092\n",
      "1.0684647838274342\n"
     ]
    }
   ],
   "source": [
    "#1-(e)\n",
    "loc, std = stats.norm.fit(samples)\n",
    "print(loc)\n",
    "print(std)"
   ]
  },
  {
   "cell_type": "code",
   "execution_count": 28,
   "metadata": {},
   "outputs": [
    {
     "data": {
      "text/plain": [
       "-7.999999999999992"
      ]
     },
     "execution_count": 28,
     "metadata": {},
     "output_type": "execute_result"
    }
   ],
   "source": [
    "from scipy import linalg\n",
    "arr = np.array([[1,3,5], [2,4,6], [6,5,8]])\n",
    "#2-(a)\n",
    "linalg.det(arr)\n"
   ]
  },
  {
   "cell_type": "code",
   "execution_count": 29,
   "metadata": {},
   "outputs": [
    {
     "data": {
      "text/plain": [
       "array([[-0.25 , -0.125,  0.25 ],\n",
       "       [-2.5  ,  2.75 , -0.5  ],\n",
       "       [ 1.75 , -1.625,  0.25 ]])"
      ]
     },
     "execution_count": 29,
     "metadata": {},
     "output_type": "execute_result"
    }
   ],
   "source": [
    "#2-(b)\n",
    "linalg.inv(arr)\n"
   ]
  },
  {
   "cell_type": "code",
   "execution_count": 30,
   "metadata": {},
   "outputs": [
    {
     "ename": "ValueError",
     "evalue": "expected square matrix",
     "output_type": "error",
     "traceback": [
      "\u001b[1;31m---------------------------------------------------------------------------\u001b[0m",
      "\u001b[1;31mValueError\u001b[0m                                Traceback (most recent call last)",
      "\u001b[1;32m<ipython-input-30-72759b4ff22a>\u001b[0m in \u001b[0;36m<module>\u001b[1;34m\u001b[0m\n\u001b[0;32m      1\u001b[0m \u001b[0marr2\u001b[0m \u001b[1;33m=\u001b[0m \u001b[0mnp\u001b[0m\u001b[1;33m.\u001b[0m\u001b[0marray\u001b[0m\u001b[1;33m(\u001b[0m\u001b[1;33m[\u001b[0m\u001b[1;33m[\u001b[0m\u001b[1;36m1\u001b[0m\u001b[1;33m,\u001b[0m\u001b[1;36m2\u001b[0m\u001b[1;33m,\u001b[0m\u001b[1;36m3\u001b[0m\u001b[1;33m,\u001b[0m\u001b[1;36m4\u001b[0m\u001b[1;33m]\u001b[0m\u001b[1;33m,\u001b[0m \u001b[1;33m[\u001b[0m\u001b[1;36m3\u001b[0m\u001b[1;33m,\u001b[0m\u001b[1;36m8\u001b[0m\u001b[1;33m,\u001b[0m\u001b[1;36m5\u001b[0m\u001b[1;33m,\u001b[0m\u001b[1;36m2\u001b[0m\u001b[1;33m]\u001b[0m\u001b[1;33m,\u001b[0m \u001b[1;33m[\u001b[0m\u001b[1;36m4\u001b[0m\u001b[1;33m,\u001b[0m\u001b[1;36m3\u001b[0m\u001b[1;33m,\u001b[0m\u001b[1;36m6\u001b[0m\u001b[1;33m,\u001b[0m\u001b[1;36m2\u001b[0m\u001b[1;33m]\u001b[0m\u001b[1;33m]\u001b[0m\u001b[1;33m)\u001b[0m\u001b[1;33m\u001b[0m\u001b[1;33m\u001b[0m\u001b[0m\n\u001b[0;32m      2\u001b[0m \u001b[1;31m#3\u001b[0m\u001b[1;33m\u001b[0m\u001b[1;33m\u001b[0m\u001b[1;33m\u001b[0m\u001b[0m\n\u001b[1;32m----> 3\u001b[1;33m \u001b[0mlinalg\u001b[0m\u001b[1;33m.\u001b[0m\u001b[0mdet\u001b[0m\u001b[1;33m(\u001b[0m\u001b[0marr2\u001b[0m\u001b[1;33m)\u001b[0m\u001b[1;33m\u001b[0m\u001b[1;33m\u001b[0m\u001b[0m\n\u001b[0m",
      "\u001b[1;32m~\\Anaconda3\\lib\\site-packages\\scipy\\linalg\\basic.py\u001b[0m in \u001b[0;36mdet\u001b[1;34m(a, overwrite_a, check_finite)\u001b[0m\n\u001b[0;32m   1029\u001b[0m     \u001b[0ma1\u001b[0m \u001b[1;33m=\u001b[0m \u001b[0m_asarray_validated\u001b[0m\u001b[1;33m(\u001b[0m\u001b[0ma\u001b[0m\u001b[1;33m,\u001b[0m \u001b[0mcheck_finite\u001b[0m\u001b[1;33m=\u001b[0m\u001b[0mcheck_finite\u001b[0m\u001b[1;33m)\u001b[0m\u001b[1;33m\u001b[0m\u001b[1;33m\u001b[0m\u001b[0m\n\u001b[0;32m   1030\u001b[0m     \u001b[1;32mif\u001b[0m \u001b[0mlen\u001b[0m\u001b[1;33m(\u001b[0m\u001b[0ma1\u001b[0m\u001b[1;33m.\u001b[0m\u001b[0mshape\u001b[0m\u001b[1;33m)\u001b[0m \u001b[1;33m!=\u001b[0m \u001b[1;36m2\u001b[0m \u001b[1;32mor\u001b[0m \u001b[0ma1\u001b[0m\u001b[1;33m.\u001b[0m\u001b[0mshape\u001b[0m\u001b[1;33m[\u001b[0m\u001b[1;36m0\u001b[0m\u001b[1;33m]\u001b[0m \u001b[1;33m!=\u001b[0m \u001b[0ma1\u001b[0m\u001b[1;33m.\u001b[0m\u001b[0mshape\u001b[0m\u001b[1;33m[\u001b[0m\u001b[1;36m1\u001b[0m\u001b[1;33m]\u001b[0m\u001b[1;33m:\u001b[0m\u001b[1;33m\u001b[0m\u001b[1;33m\u001b[0m\u001b[0m\n\u001b[1;32m-> 1031\u001b[1;33m         \u001b[1;32mraise\u001b[0m \u001b[0mValueError\u001b[0m\u001b[1;33m(\u001b[0m\u001b[1;34m'expected square matrix'\u001b[0m\u001b[1;33m)\u001b[0m\u001b[1;33m\u001b[0m\u001b[1;33m\u001b[0m\u001b[0m\n\u001b[0m\u001b[0;32m   1032\u001b[0m     \u001b[0moverwrite_a\u001b[0m \u001b[1;33m=\u001b[0m \u001b[0moverwrite_a\u001b[0m \u001b[1;32mor\u001b[0m \u001b[0m_datacopied\u001b[0m\u001b[1;33m(\u001b[0m\u001b[0ma1\u001b[0m\u001b[1;33m,\u001b[0m \u001b[0ma\u001b[0m\u001b[1;33m)\u001b[0m\u001b[1;33m\u001b[0m\u001b[1;33m\u001b[0m\u001b[0m\n\u001b[0;32m   1033\u001b[0m     \u001b[0mfdet\u001b[0m\u001b[1;33m,\u001b[0m \u001b[1;33m=\u001b[0m \u001b[0mget_flinalg_funcs\u001b[0m\u001b[1;33m(\u001b[0m\u001b[1;33m(\u001b[0m\u001b[1;34m'det'\u001b[0m\u001b[1;33m,\u001b[0m\u001b[1;33m)\u001b[0m\u001b[1;33m,\u001b[0m \u001b[1;33m(\u001b[0m\u001b[0ma1\u001b[0m\u001b[1;33m,\u001b[0m\u001b[1;33m)\u001b[0m\u001b[1;33m)\u001b[0m\u001b[1;33m\u001b[0m\u001b[1;33m\u001b[0m\u001b[0m\n",
      "\u001b[1;31mValueError\u001b[0m: expected square matrix"
     ]
    }
   ],
   "source": [
    "arr2 = np.array([[1,2,3,4], [3,8,5,2], [4,3,6,2]])\n",
    "#3\n",
    "linalg.det(arr2)\n",
    "#square marlix가 아니기 때문에 에러가 난다."
   ]
  },
  {
   "cell_type": "code",
   "execution_count": 47,
   "metadata": {},
   "outputs": [
    {
     "name": "stdout",
     "output_type": "stream",
     "text": [
      "A = \n",
      "[[ 2  2  2]\n",
      " [ 4  7  7]\n",
      " [ 6 18 22]]\n",
      "E_21 = \n",
      "[[ 1.  0.  0.]\n",
      " [-2.  1.  0.]\n",
      " [ 0.  0.  1.]]\n",
      "U = \n",
      "[[ 2.  2.  2.]\n",
      " [ 0.  3.  3.]\n",
      " [ 6. 18. 22.]]\n",
      "E_31 = \n",
      "[[ 1.  0.  0.]\n",
      " [ 0.  1.  0.]\n",
      " [-3.  0.  1.]]\n",
      "U = \n",
      "[[ 2.  2.  2.]\n",
      " [ 0.  3.  3.]\n",
      " [ 0. 12. 16.]]\n",
      "E_32 = \n",
      "[[ 1.  0.  0.]\n",
      " [ 0.  1.  0.]\n",
      " [ 0. -4.  1.]]\n",
      "U = \n",
      "[[2. 2. 2.]\n",
      " [0. 3. 3.]\n",
      " [0. 0. 4.]]\n",
      "L = \n",
      "[[1. 0. 0.]\n",
      " [2. 1. 0.]\n",
      " [3. 4. 1.]]\n",
      "LU = \n",
      "[[ 2.  2.  2.]\n",
      " [ 4.  7.  7.]\n",
      " [ 6. 18. 22.]]\n"
     ]
    }
   ],
   "source": [
    "#4\n",
    "A = np.array([[2,2,2], [4,7,7], [6,18,22]])\n",
    "U = np.identity(3)\n",
    "print('A = \\n'+str(A))\n",
    "np.copyto(U,A)\n",
    "\n",
    "U[1] = U[1] + (-2) *U[0]\n",
    "E_21 = np.identity(3)\n",
    "E_21[1,0] = -2\n",
    "print('E_21 = \\n'+str(E_21))\n",
    "print('U = \\n'+str(U))\n",
    "\n",
    "U[2] = U[2] + (-3) *U[0]\n",
    "E_31 = np.identity(3)\n",
    "E_31[2,0] = -3\n",
    "print('E_31 = \\n'+str(E_31))\n",
    "print('U = \\n'+str(U))\n",
    "\n",
    "U[2] = U[2] + (-4) *U[1]\n",
    "E_32 = np.identity(3)\n",
    "E_32[2,1] = -4\n",
    "print('E_32 = \\n'+str(E_32))\n",
    "print('U = \\n'+str(U))\n",
    "\n",
    "'''\n",
    "A=LU\n",
    "E_32*E_31*E21*A = U\n",
    "A=inv(E_32*E_31*E_21)U\n",
    "\n",
    "L = inv(E_32*E_31*E_21)\n",
    "'''\n",
    "L = np.linalg.inv(np.matmul(np.matmul(E_32, E_31), E_21))\n",
    "print('L = \\n'+str(L))\n",
    "print('LU = \\n'+str(np.matmul(L,U)))"
   ]
  },
  {
   "cell_type": "code",
   "execution_count": 49,
   "metadata": {},
   "outputs": [
    {
     "name": "stdout",
     "output_type": "stream",
     "text": [
      "A = \n",
      "[[ 2  2  2]\n",
      " [ 4  7  7]\n",
      " [ 6 18 22]]\n",
      "U = \n",
      "[[ 6.         18.         22.        ]\n",
      " [ 0.         -5.         -7.66666667]\n",
      " [ 0.          0.          0.8       ]]\n",
      "L = \n",
      "[[1.         0.         0.        ]\n",
      " [0.66666667 1.         0.        ]\n",
      " [0.33333333 0.8        1.        ]]\n",
      "LU = \n",
      "[[ 2.  2.  2.]\n",
      " [ 4.  7.  7.]\n",
      " [ 6. 18. 22.]]\n"
     ]
    }
   ],
   "source": [
    "#5\n",
    "A = np.array([[2,2,2], [4,7,7], [6,18,22]])\n",
    "U = np.identity(3)\n",
    "print('A = \\n'+str(A))\n",
    "\n",
    "P, L, U = linalg.lu(A)\n",
    "print('U = \\n'+str(U))\n",
    "print('L = \\n'+str(L))\n",
    "print('LU = \\n'+str(np.matmul(P,np.matmul(L,U))))"
   ]
  },
  {
   "cell_type": "code",
   "execution_count": 57,
   "metadata": {},
   "outputs": [
    {
     "data": {
      "text/plain": [
       "array([-1.59223377, -3.54415522, -2.90556138, -0.94521372, -0.09688812,\n",
       "       -1.39731025,  2.14347991,  2.45938731,  3.49594076,  4.40684146,\n",
       "        3.88079847,  4.31760209,  2.28050321,  0.04763353, -1.21152043,\n",
       "       -2.63107665, -2.29293903, -4.19224713, -3.21902452, -3.35087855,\n",
       "       -3.60424887,  1.22060218,  2.95650863,  2.53127468,  6.18674471,\n",
       "        2.46262441,  3.31919822,  1.90488858,  2.0997628 ,  0.41809971,\n",
       "       -2.34183539, -3.1539297 , -4.87487462, -5.76781457, -3.31266313,\n",
       "       -1.49903469,  1.15624919,  2.72184534,  2.47600177,  3.43445215,\n",
       "        2.94768999,  2.17914167,  0.90447433,  3.14416689, -0.92968456,\n",
       "       -2.40252041, -4.43890228, -3.10680901, -5.55821027, -3.5690264 ])"
      ]
     },
     "execution_count": 57,
     "metadata": {},
     "output_type": "execute_result"
    }
   ],
   "source": [
    "#6\n",
    "np.random.seed(0)\n",
    "\n",
    "x_data = np.linspace(-5, 5, num=50)\n",
    "y_data = 4*np.cos(2*x_data)+np.random.normal(size=50)\n",
    "y_data"
   ]
  },
  {
   "cell_type": "code",
   "execution_count": 58,
   "metadata": {},
   "outputs": [
    {
     "data": {
      "text/plain": [
       "<function matplotlib.pyplot.show(*args, **kw)>"
      ]
     },
     "execution_count": 58,
     "metadata": {},
     "output_type": "execute_result"
    },
    {
     "data": {
      "image/png": "[encoded data removed]",
      "text/plain": [
       "<Figure size 432x288 with 1 Axes>"
      ]
     },
     "metadata": {
      "needs_background": "light"
     },
     "output_type": "display_data"
    }
   ],
   "source": [
    "plt.plot(x_data, y_data, 'o')\n",
    "plt.show()"
   ]
  },
  {
   "cell_type": "code",
   "execution_count": 69,
   "metadata": {},
   "outputs": [
    {
     "name": "stdout",
     "output_type": "stream",
     "text": [
      "[3.93165348 2.00961284]\n",
      "[[5.07682762e-02 5.88875166e-05]\n",
      " [5.88875166e-05 4.66701940e-04]]\n",
      "[3.93165348 2.00961284]\n",
      "[[5.07682762e-02 5.88875166e-05]\n",
      " [5.88875166e-05 4.66701940e-04]]\n"
     ]
    }
   ],
   "source": [
    "#7\n",
    "from scipy import optimize\n",
    "cos_p, cos_c = optimize.curve_fit(lambda x, a, b : a*np.cos(b*x), x_data, y_data, p0 = [2,2])\n",
    "sin_p, sin_c = optimize.curve_fit(lambda x, a, b : a*np.cos(b*x), x_data, y_data, p0 = [2,2])\n",
    "\n",
    "print (cos_p)\n",
    "print (cos_c)\n",
    "print (sin_p)\n",
    "print (sin_c)"
   ]
  },
  {
   "cell_type": "code",
   "execution_count": 6,
   "metadata": {},
   "outputs": [],
   "source": [
    "#8\n",
    "class1 = [65.9, 53.6, 57.3, 59.3, 63.8, 59.2, 64.2, 75.0, 62.9]\n",
    "class2 = [76.3, 82.1, 73.3, 69.3, 59.9, 72.1, 59.1, 86.8, 78.1]"
   ]
  },
  {
   "cell_type": "code",
   "execution_count": 7,
   "metadata": {},
   "outputs": [
    {
     "name": "stdout",
     "output_type": "stream",
     "text": [
      "62.35555555555555 33.3046913580247 5.771021691002789\n",
      "73.0 76.61777777777776 8.753158160217247\n"
     ]
    }
   ],
   "source": [
    "class1_loc = np.mean(class1)\n",
    "class2_loc = np.mean(class2)\n",
    "\n",
    "class1_var = np.var(class1)\n",
    "class2_var = np.var(class2)\n",
    "\n",
    "class1_std = np.std(class1)\n",
    "class2_std = np.std(class2)\n",
    "\n",
    "print(class1_loc, class1_var, class1_std)\n",
    "print(class2_loc, class2_var, class2_std)\n",
    "\n",
    "#평균과 분산이 같지 않아 각 반의 분포의 기댓값이 다르다."
   ]
  },
  {
   "cell_type": "code",
   "execution_count": null,
   "metadata": {},
   "outputs": [],
   "source": []
  },
  {
   "cell_type": "code",
   "execution_count": null,
   "metadata": {},
   "outputs": [],
   "source": []
  },
  {
   "cell_type": "code",
   "execution_count": null,
   "metadata": {},
   "outputs": [],
   "source": []
  }
 ],
 "metadata": {
  "kernelspec": {
   "display_name": "Python 3",
   "language": "python",
   "name": "python3"
  },
  "language_info": {
   "codemirror_mode": {
    "name": "ipython",
    "version": 3
   },
   "file_extension": ".py",
   "mimetype": "text/x-python",
   "name": "python",
   "nbconvert_exporter": "python",
   "pygments_lexer": "ipython3",
   "version": "3.7.3"
  }
 },
 "nbformat": 4,
 "nbformat_minor": 2
}
