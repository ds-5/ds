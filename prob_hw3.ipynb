{
 "cells": [
  {
   "cell_type": "code",
   "execution_count": 1,
   "metadata": {},
   "outputs": [],
   "source": [
    "import numpy as np"
   ]
  },
  {
   "cell_type": "code",
   "execution_count": 2,
   "metadata": {},
   "outputs": [
    {
     "name": "stdout",
     "output_type": "stream",
     "text": [
      "Q1.\n",
      "(a) E(X) = 1.0925\tVar(X) = 1.7839\n",
      "\n",
      "(b)\n",
      "0.0 : 0.2025\n",
      "0.5 : 0.2295\n",
      "1.0 : 0.2180\n",
      "1.5 : 0.1160\n",
      "2.0 : 0.1017\n",
      "2.5 : 0.0699\n",
      "3.0 : 0.0376\n",
      "3.5 : 0.0143\n",
      "4.0 : 0.0059\n",
      "4.5 : 0.0037\n",
      "5.0 : 0.0009\n",
      "\n",
      "(c) E(X_bar) = 1.0925\tVar(X_bar) = 0.8920\n",
      "\n",
      "E(X) = E(Xbar),\tVar(X) = Var(Xbar)/n\n"
     ]
    }
   ],
   "source": [
    "# hw3-1\n",
    "print('Q1.')\n",
    "data = np.array([180, 102, 68, 13, 25, 12])\n",
    "prob_x = data/np.sum(data)\n",
    "ex = 0\n",
    "ex2 = 0\n",
    "for x in range(len(prob_x)):\n",
    "    ex += x*prob_x[x]\n",
    "    ex2 += (x**2)*prob_x[x]\n",
    "print('(a) E(X) = %.4f\\tVar(X) = %.4f\\n' %(ex, ex2 - ex**2))\n",
    "\n",
    "print('(b)')\n",
    "prob_x_bar = np.zeros(36)\n",
    "for x1, px1 in enumerate(prob_x) :\n",
    "    for x2, px2 in enumerate(prob_x) :\n",
    "        prob_x_bar[x1+x2] += px1*px2\n",
    "\n",
    "for x, prob in enumerate(prob_x_bar):\n",
    "    if prob:\n",
    "        print('%.1f : %.4f' % (x/2, prob))\n",
    "\n",
    "ex_bar = 0\n",
    "ex2_bar = 0\n",
    "for x, prob in enumerate(prob_x_bar):\n",
    "    ex_bar += (x/2)*prob\n",
    "    ex2_bar += ((x/2)**2)*prob\n",
    "print('\\n(c) E(X_bar) = %.4f\\tVar(X_bar) = %.4f\\n' %(ex_bar, ex2_bar - ex_bar**2))\n",
    "print('E(X) = E(Xbar),\\tVar(X) = Var(Xbar)/n')"
   ]
  },
  {
   "cell_type": "code",
   "execution_count": 3,
   "metadata": {
    "scrolled": true
   },
   "outputs": [
    {
     "name": "stdout",
     "output_type": "stream",
     "text": [
      "Q4.\n",
      "P(Xbar>=31.0000) = P(Z>=1.8257) = 0.0340\n"
     ]
    }
   ],
   "source": [
    "#hw3-4\n",
    "print('Q4.')\n",
    "n=50\n",
    "E_X = 30\n",
    "Var_X = 15\n",
    "E_Xbar = 30\n",
    "Var_Xbar = Var_X / n\n",
    "x0 = 1550/n\n",
    "z0 = (x0 - E_Xbar) / (Var_Xbar**0.5)\n",
    "Z_1p825 = (0.9656 + 0.9664) / 2\n",
    "#print('central limit theorem : Xbar ~ N(%.4f, %.4f)' % (E_Xbar, Var_Xbar) )\n",
    "print('P(Xbar>=%.4f) = P(Z>=%.4f) = %.4f' %(x0, z0, 1-Z_1p825) )"
   ]
  },
  {
   "cell_type": "code",
   "execution_count": 12,
   "metadata": {},
   "outputs": [
    {
     "name": "stdout",
     "output_type": "stream",
     "text": [
      "Q5.\n",
      "P(Xbar<4.336, S^2<24.28)\n",
      "= P(Xbar<4.336) * P(S^2<24.28)\n",
      "= 0.9525 * 0.9500\n",
      "= 0.9049\n"
     ]
    }
   ],
   "source": [
    "#hw3-5.\n",
    "print('Q5.')\n",
    "E_X, Var_X, n = 3, 16, 25\n",
    "xbar_0 = 4.336\n",
    "s2_0 = 24.28\n",
    "\n",
    "# prob Xbar ~ N (p.46)\n",
    "E_Xbar = E_X\n",
    "Var_Xbar = 16/n\n",
    "xbar_0 = 4.336\n",
    "z0 = (xbar_0 - E_Xbar) / (Var_Xbar**0.5) # 0.167\n",
    "prob_xbar = 0.9525 # from table\n",
    "\n",
    "# prob (n-1)*S2/Var_X ~ Chi_square(n-1) (p.50)\n",
    "chi_target = ((n-1)/Var_X) * s2_0  # 36.42 where df=24\n",
    "alpha = 0.05 # from table\n",
    "prob_s2 = 1-alpha\n",
    "\n",
    "# answer\n",
    "total_prob = prob_xbar * prob_s2\n",
    "print('P(Xbar<4.336, S^2<24.28)')\n",
    "print('= P(Xbar<4.336) * P(S^2<24.28)')\n",
    "print('= %.4f * %.4f' % (prob_xbar, prob_s2))\n",
    "print('= %.4f' % (prob_xbar*prob_s2))"
   ]
  },
  {
   "cell_type": "code",
   "execution_count": 14,
   "metadata": {},
   "outputs": [
    {
     "name": "stdout",
     "output_type": "stream",
     "text": [
      "y = 0.3116\n",
      "\n"
     ]
    }
   ],
   "source": [
    "#hw3-8. P( (S1**2/S2**2) <= y ) = 0.025, y = ?\n",
    "E_Xa, E_Xb = 2, 4\n",
    "Var_Xa, Var_Xb = 9, 9\n",
    "na, nb = 15, 10\n",
    "\n",
    "# using F distribution... (p.54)\n",
    "# (Var_Xb / Var_Xa) * (S1**2/S2**2) ~ F(na-1, nb-1)\n",
    "# P(F(14,9) <= y) = 0.025\n",
    "# y = F_0.975(14,9) = 1 / F_0.025(9,14) = 1 / 3.209 \n",
    "print('y = %.4f\\n' % (1 / 3.209))"
   ]
  },
  {
   "cell_type": "code",
   "execution_count": null,
   "metadata": {},
   "outputs": [],
   "source": []
  }
 ],
 "metadata": {
  "kernelspec": {
   "display_name": "Python 3",
   "language": "python",
   "name": "python3"
  },
  "language_info": {
   "codemirror_mode": {
    "name": "ipython",
    "version": 3
   },
   "file_extension": ".py",
   "mimetype": "text/x-python",
   "name": "python",
   "nbconvert_exporter": "python",
   "pygments_lexer": "ipython3",
   "version": "3.7.3"
  }
 },
 "nbformat": 4,
 "nbformat_minor": 2
}
