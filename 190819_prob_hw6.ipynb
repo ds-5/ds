{
 "cells": [
  {
   "cell_type": "code",
   "execution_count": 2,
   "metadata": {},
   "outputs": [],
   "source": [
    "import numpy as np"
   ]
  },
  {
   "cell_type": "code",
   "execution_count": 19,
   "metadata": {},
   "outputs": [
    {
     "name": "stdout",
     "output_type": "stream",
     "text": [
      "H0 : rho = 0\n",
      "H1 : rho != 0\n",
      "|T| > t0.025(6)\n",
      "4.4174 > 2.4470\n",
      "reject H0\n"
     ]
    }
   ],
   "source": [
    "# Q1\n",
    "X = np.array([-2,-1,4,1,-1,0,2,-3])\n",
    "Y = np.array([7,3,-5,-3,0,-1,-4,3])\n",
    "alpha = 0.05\n",
    "n = len(X)\n",
    "Sxx = ((X-np.mean(X))*(X-np.mean(X))).sum()\n",
    "Syy = ((Y-np.mean(Y))*(Y-np.mean(Y))).sum()\n",
    "Sxy = ((X-np.mean(X))*(Y-np.mean(Y))).sum()\n",
    "r = Sxy / (Sxx*Syy)**(0.5)\n",
    "T = (n-2)**(0.5) * (r / ((1-r**2)**0.5))\n",
    "t0 = 2.447\n",
    "print('H0 : rho = 0')\n",
    "print('H1 : rho != 0')\n",
    "print('|T| > t0.025(6)')\n",
    "print('%.4f > %.4f'%(abs(T), t0))\n",
    "print('reject H0')"
   ]
  },
  {
   "cell_type": "code",
   "execution_count": 23,
   "metadata": {},
   "outputs": [
    {
     "name": "stdout",
     "output_type": "stream",
     "text": [
      "(Yi)^ = 0.0000 + -1.5833 * Xi\n",
      "Xi 는 관측값 아님...\n"
     ]
    }
   ],
   "source": [
    "# Q2\n",
    "b1 = Sxy/Sxx\n",
    "b0 = np.mean(Y) - b1 * np.mean(X)\n",
    "print('(Yi)^ = %.4f + %.4f * Xi' % (b0, b1) )\n",
    "print('Xi 는 관측값 아님...')"
   ]
  },
  {
   "cell_type": "code",
   "execution_count": 37,
   "metadata": {},
   "outputs": [
    {
     "name": "stdout",
     "output_type": "stream",
     "text": [
      "1.0000 50.6250 50.6250 15.5411 15.5411\n",
      "10.0000 32.5750 3.2575\n",
      "83.2000\n",
      "F? f0?\n"
     ]
    }
   ],
   "source": [
    "# Q3-a\n",
    "n = 12\n",
    "Xbar = 15.0\n",
    "Ybar = 13.0\n",
    "Sxx = 160.0\n",
    "Sxy = 90.0\n",
    "Syy = 83.2\n",
    "SSR = (Sxy**2) / Sxx\n",
    "SSE = Syy - SSR\n",
    "MSR = SSR/1\n",
    "MSE = SSE/(n-2)\n",
    "F = SSR / (SSE/(n-2))\n",
    "print('%.4f %.4f %.4f %.4f %.4f' % (1, SSR, MSR, F, F))\n",
    "print('%.4f %.4f %.4f' % (n-2, SSE, MSE))\n",
    "print('%.4f' % (SSR+SSE))\n",
    "print('F??? f0???')"
   ]
  },
  {
   "cell_type": "code",
   "execution_count": 41,
   "metadata": {},
   "outputs": [
    {
     "name": "stdout",
     "output_type": "stream",
     "text": [
      "H0 : b1 = 0\n",
      "H1 : b1 != 0\n",
      "F > f0\n",
      "15.5411 > 4.965\n",
      "기각, 유의하다\n"
     ]
    }
   ],
   "source": [
    "# Q3-b\n",
    "f0 = 4.965   #F0.05(1, 10)\n",
    "print('H0 : b1 = 0')\n",
    "print('H1 : b1 != 0')\n",
    "print('F > f0')\n",
    "print('%.4f > 4.965' % (F))\n",
    "print('기각, 유의하다')"
   ]
  },
  {
   "cell_type": "code",
   "execution_count": 43,
   "metadata": {},
   "outputs": [
    {
     "name": "stdout",
     "output_type": "stream",
     "text": [
      "H0 : b1 = 0\n",
      "H1 : b1 != 0\n",
      "|T| > t0\n",
      "3.9422 > 2.2280\n",
      "기각, 유의하다\n"
     ]
    }
   ],
   "source": [
    "# Q3-c\n",
    "b1_hat = Sxy/Sxx\n",
    "b0_hat = Ybar - b1_hat * Xbar\n",
    "b1 = 0\n",
    "sigma_hat = MSE**0.5\n",
    "T = (b1_hat - b1) / (sigma_hat / (Sxx**0.5))\n",
    "t0 = 2.228 #t0.025(n-2)\n",
    "print('H0 : b1 = 0')\n",
    "print('H1 : b1 != 0')\n",
    "print('|T| > t0')\n",
    "print('%.4f > %.4f' % (T, t0))\n",
    "print('기각, 유의하다')"
   ]
  },
  {
   "cell_type": "code",
   "execution_count": 46,
   "metadata": {},
   "outputs": [
    {
     "data": {
      "text/plain": [
       "-0.08750000000000036"
      ]
     },
     "execution_count": 46,
     "metadata": {},
     "output_type": "execute_result"
    }
   ],
   "source": [
    "# Q4-a\n",
    "b0_hat, b1_hat\n",
    "Xi = 2\n",
    "Yi = 5.6\n",
    "ei_hat = Yi - (b0_hat + b1_hat * Xi)\n",
    "ei_hat"
   ]
  },
  {
   "cell_type": "code",
   "execution_count": 61,
   "metadata": {
    "scrolled": true
   },
   "outputs": [
    {
     "name": "stdout",
     "output_type": "stream",
     "text": [
      "(1.3948, 9.9802)\n"
     ]
    }
   ],
   "source": [
    "# Q4-b\n",
    "Yi_hat = b0_hat + b1_hat*Xi\n",
    "t0 = 2.228 #t0.025(10)\n",
    "upper = Yi_hat + t0 * sigma_hat * (1/n + ((Xi - Xbar)**2)/Sxx)**0.5\n",
    "lower = Yi_hat - t0 * sigma_hat * (1/n + ((Xi - Xbar)**2)/Sxx)**0.5\n",
    "print('(%.4f, %.4f)' % (lower, upper))"
   ]
  }
 ],
 "metadata": {
  "kernelspec": {
   "display_name": "Python 3",
   "language": "python",
   "name": "python3"
  },
  "language_info": {
   "codemirror_mode": {
    "name": "ipython",
    "version": 3
   },
   "file_extension": ".py",
   "mimetype": "text/x-python",
   "name": "python",
   "nbconvert_exporter": "python",
   "pygments_lexer": "ipython3",
   "version": "3.7.3"
  }
 },
 "nbformat": 4,
 "nbformat_minor": 2
}
