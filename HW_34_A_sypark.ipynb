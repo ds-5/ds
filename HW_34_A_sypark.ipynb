{
 "cells": [
  {
   "cell_type": "code",
   "execution_count": 18,
   "metadata": {},
   "outputs": [],
   "source": [
    "from random import *\n",
    "import numpy as np\n",
    "from sklearn import linear_model, datasets, neighbors, svm, neural_network, tree\n",
    "import matplotlib.pyplot as plt\n",
    "import pandas as pd"
   ]
  },
  {
   "cell_type": "code",
   "execution_count": 3,
   "metadata": {},
   "outputs": [],
   "source": [
    "df = pd.read_csv(\"./32_term/sklearn_practice.csv.txt\")"
   ]
  },
  {
   "cell_type": "code",
   "execution_count": 4,
   "metadata": {},
   "outputs": [
    {
     "data": {
      "text/plain": [
       "492"
      ]
     },
     "execution_count": 4,
     "metadata": {},
     "output_type": "execute_result"
    }
   ],
   "source": [
    "class_0 = df[df['Class']==0]\n",
    "class_1 = df[df['Class']==1]\n",
    "\n",
    "sampled = class_0.sample(n=len(class_1))\n",
    "len(sampled)"
   ]
  },
  {
   "cell_type": "code",
   "execution_count": 5,
   "metadata": {},
   "outputs": [],
   "source": [
    "data = pd.concat([class_1, sampled])\n",
    "data = data.sample(frac=1)"
   ]
  },
  {
   "cell_type": "code",
   "execution_count": 6,
   "metadata": {},
   "outputs": [
    {
     "name": "stdout",
     "output_type": "stream",
     "text": [
      "[0 0 1 0 0 0 1 0 1 1 1 1 1 1 0 0 1 1 0 0 1 1 1 1 1 0 0 0 1 1 1 0 0 1 0 0 0\n",
      " 0 0 1 0 1 1 0 1 1 0 0 0 1 0 1 0 1 1 0 1 1 1 0 0 1 0 1 0 1 1 0 0 1 1 1 0 1\n",
      " 1 0 0 0 1 0 0 1 0 1 1 0 1 0 1 0 0 1 1 1 1 0 0 0 0 0 0 1 1 0 1 1 1 1 0 0 0\n",
      " 1 0 1 1 0 0 0 1 0 1 0 0 1 0 0 1 0 1 1 1 1 0 0 0 1 0 1 0 0 1 1 0 0 1 1 1 1\n",
      " 0 0 0 1 0 0 1 0 1 1 0 1 0 1 0 1 0 0 1 0 1 1 0 1 0 0 0 1 0 0 1 1 1 0 1 1 0\n",
      " 1 0 1 1 1 0 1 0 1 0 0 0 1 1 0 1 1 0 1 0 1 1 0 1 0 0 1 0 1 0 0 0 0 0 1 1 0\n",
      " 1 0 0 1 0 1 0 0 0 0 0 0 1 1 1 1 0 1 1 0 1 1 0 0 1 0 1 0 0 1 0 1 0 0 0 0 0\n",
      " 1 0 0 1 1 1 1 1 0 0 1 1 0 1 0 1 1 0 1 0 0 0 0 1 0]\n",
      "0.9436619718309859\n"
     ]
    },
    {
     "name": "stderr",
     "output_type": "stream",
     "text": [
      "C:\\Users\\DS\\Anaconda3\\lib\\site-packages\\sklearn\\linear_model\\logistic.py:433: FutureWarning: Default solver will be changed to 'lbfgs' in 0.22. Specify a solver to silence this warning.\n",
      "  FutureWarning)\n"
     ]
    }
   ],
   "source": [
    "train_data = data[:700]\n",
    "x_train = train_data.loc[:, 'Time':'Amount']\n",
    "y_train = train_data.loc[:, 'Class']\n",
    "\n",
    "test_data = data[700:]\n",
    "x_test = test_data.loc[:, 'Time':'Amount']\n",
    "y_test = test_data.loc[:, 'Class']\n",
    "#print(x_test)\n",
    "model = linear_model.LogisticRegression()\n",
    "model.fit(x_train, y_train)\n",
    "\n",
    "y_pred=model.predict(x_test)\n",
    "print(y_pred)\n",
    "cnt =0\n",
    "for i in range(len(y_pred)):\n",
    "    if y_pred[i] == y_test.iloc[i]: cnt +=1\n",
    "print(cnt/len(y_pred))"
   ]
  },
  {
   "cell_type": "code",
   "execution_count": 7,
   "metadata": {},
   "outputs": [
    {
     "name": "stdout",
     "output_type": "stream",
     "text": [
      "[0 0 1 0 0 0 1 0 1 1 1 1 1 1 0 0 1 1 0 0 1 1 1 1 1 0 0 0 1 1 1 0 0 1 0 0 0\n",
      " 0 0 1 0 1 1 0 0 1 0 0 0 1 0 1 0 1 1 0 1 1 1 0 0 1 0 1 0 1 1 0 0 1 1 1 0 1\n",
      " 1 0 0 0 1 0 0 1 0 1 1 0 1 0 1 0 0 1 1 1 1 0 0 0 0 0 0 0 1 0 0 1 1 1 0 0 0\n",
      " 1 0 1 1 0 0 0 1 0 1 0 0 1 0 0 1 0 1 1 1 1 0 0 0 1 0 1 0 0 1 1 0 0 1 1 1 1\n",
      " 0 0 0 1 0 0 1 0 1 1 0 1 0 1 0 1 0 0 1 0 1 1 0 1 0 0 0 1 0 0 1 1 1 0 1 1 0\n",
      " 1 0 1 1 1 0 1 0 0 0 0 0 1 1 0 1 1 0 1 0 1 1 0 1 0 0 1 0 1 0 0 0 0 0 1 1 0\n",
      " 1 0 0 1 0 1 0 0 0 0 0 0 1 1 1 1 0 1 1 0 1 1 0 0 1 0 1 0 0 1 0 1 0 0 0 0 0\n",
      " 1 0 0 1 1 1 1 1 0 0 1 1 0 1 0 1 1 0 1 0 0 0 0 1 0]\n",
      "0.9295774647887324\n"
     ]
    }
   ],
   "source": [
    "train_data = data[:700]\n",
    "x_train = train_data.loc[:, 'V1':'V28']\n",
    "y_train = train_data.loc[:, 'Class']\n",
    "\n",
    "test_data = data[700:]\n",
    "x_test = test_data.loc[:, 'V1':'V28']\n",
    "y_test = test_data.loc[:, 'Class']\n",
    "model = svm.SVC(gamma = 'scale')\n",
    "model.fit(x_train, y_train)\n",
    "\n",
    "y_pred=model.predict(x_test)\n",
    "print(y_pred)\n",
    "cnt =0\n",
    "for i in range(len(y_pred)):\n",
    "    if y_pred[i] == y_test.iloc[i]: cnt +=1\n",
    "print(cnt/len(y_pred))"
   ]
  },
  {
   "cell_type": "code",
   "execution_count": 8,
   "metadata": {},
   "outputs": [
    {
     "name": "stdout",
     "output_type": "stream",
     "text": [
      "[1 0 1 0 0 0 1 0 1 1 1 0 1 1 0 0 1 1 0 0 1 1 0 1 1 0 0 1 1 1 1 0 0 1 0 0 0\n",
      " 0 0 1 0 1 1 0 1 1 0 0 0 1 0 1 0 1 1 0 1 1 1 0 0 1 0 1 0 1 1 0 0 1 1 1 0 1\n",
      " 1 0 0 0 1 0 0 1 0 1 1 0 1 0 1 0 0 1 1 1 1 0 0 0 0 0 0 0 1 0 1 1 1 1 0 0 0\n",
      " 1 0 1 1 0 0 0 1 0 1 0 0 1 0 0 1 0 1 1 1 1 0 1 0 1 0 1 0 0 1 1 0 0 1 1 1 1\n",
      " 0 0 0 1 0 0 1 0 1 1 0 1 0 1 0 1 0 0 1 0 1 1 0 1 0 0 0 1 1 0 1 1 1 0 1 1 0\n",
      " 1 0 1 1 1 0 1 0 0 0 0 0 1 1 0 1 1 0 1 0 1 1 0 1 0 0 1 0 1 0 0 0 0 0 1 1 0\n",
      " 1 0 0 1 0 1 0 0 0 0 0 0 1 1 1 1 0 1 1 0 1 1 1 0 1 0 1 0 0 1 1 1 0 0 0 0 0\n",
      " 1 0 0 1 1 1 1 1 0 0 1 1 0 1 0 1 1 0 1 0 0 0 0 1 0]\n",
      "0.9366197183098591\n"
     ]
    }
   ],
   "source": [
    "model = neighbors.KNeighborsClassifier()\n",
    "model.fit(x_train, y_train)\n",
    "\n",
    "y_pred=model.predict(x_test)\n",
    "print(y_pred)\n",
    "cnt =0\n",
    "for i in range(len(y_pred)):\n",
    "    if y_pred[i] == y_test.iloc[i]: cnt +=1\n",
    "print(cnt/len(y_pred))"
   ]
  },
  {
   "cell_type": "code",
   "execution_count": 9,
   "metadata": {},
   "outputs": [
    {
     "name": "stdout",
     "output_type": "stream",
     "text": [
      "[0 0 1 0 0 0 1 0 1 1 1 1 1 1 0 0 1 1 0 0 1 1 0 1 1 0 0 1 1 1 1 0 0 1 0 0 0\n",
      " 0 0 1 0 1 1 0 1 1 0 0 0 1 0 1 0 1 1 0 1 1 1 0 0 1 0 1 0 1 1 0 0 1 1 1 0 1\n",
      " 1 0 0 0 1 0 0 1 0 1 1 0 1 0 1 0 0 1 1 1 1 0 0 0 0 0 0 0 1 0 1 1 1 1 0 0 0\n",
      " 1 0 1 1 0 0 0 1 0 1 0 0 1 0 0 1 0 1 1 1 1 0 0 0 1 0 1 0 0 1 1 0 0 1 1 1 1\n",
      " 0 0 0 1 0 0 1 0 1 1 0 1 0 1 0 1 0 1 1 0 1 1 0 1 0 0 0 1 1 0 1 1 1 0 1 1 0\n",
      " 1 0 1 1 1 0 1 0 1 0 0 0 1 1 0 1 1 0 1 0 1 1 0 1 0 0 1 0 1 1 0 0 0 0 1 1 0\n",
      " 1 0 0 1 0 1 0 0 0 0 0 0 1 1 1 1 0 1 1 0 1 1 1 1 1 0 1 0 0 1 1 1 0 0 0 0 0\n",
      " 1 0 0 1 1 1 1 1 0 0 1 1 0 1 0 1 1 0 1 0 0 0 0 1 0]\n",
      "0.9471830985915493\n"
     ]
    }
   ],
   "source": [
    "model = neural_network.MLPClassifier(learning_rate_init=0.01)\n",
    "model.fit(x_train, y_train)\n",
    "\n",
    "y_pred=model.predict(x_test)\n",
    "print(y_pred)\n",
    "cnt =0\n",
    "for i in range(len(y_pred)):\n",
    "    if y_pred[i] == y_test.iloc[i]: cnt +=1\n",
    "print(cnt/len(y_pred))"
   ]
  },
  {
   "cell_type": "code",
   "execution_count": 10,
   "metadata": {},
   "outputs": [],
   "source": [
    "data = df\n",
    "train_data = data[:200000]\n",
    "test_data = data[200000:]"
   ]
  },
  {
   "cell_type": "code",
   "execution_count": 11,
   "metadata": {},
   "outputs": [
    {
     "name": "stderr",
     "output_type": "stream",
     "text": [
      "C:\\Users\\DS\\Anaconda3\\lib\\site-packages\\sklearn\\linear_model\\logistic.py:433: FutureWarning: Default solver will be changed to 'lbfgs' in 0.22. Specify a solver to silence this warning.\n",
      "  FutureWarning)\n"
     ]
    },
    {
     "name": "stdout",
     "output_type": "stream",
     "text": [
      "[0 0 0 ... 0 0 0]\n",
      "0.9989623498060302\n"
     ]
    }
   ],
   "source": [
    "x_train = train_data.loc[:, 'Time':'Amount']\n",
    "y_train = train_data.loc[:, 'Class']\n",
    "\n",
    "x_test = test_data.loc[:, 'Time':'Amount']\n",
    "y_test = test_data.loc[:, 'Class']\n",
    "\n",
    "model = linear_model.LogisticRegression()\n",
    "model.fit(x_train, y_train)\n",
    "\n",
    "y_pred=model.predict(x_test)\n",
    "print(y_pred)\n",
    "cnt =0\n",
    "for i in range(len(y_pred)):\n",
    "    if y_pred[i] == y_test.iloc[i]: cnt +=1\n",
    "print(cnt/len(y_pred))"
   ]
  },
  {
   "cell_type": "code",
   "execution_count": 14,
   "metadata": {},
   "outputs": [],
   "source": [
    "class_0 = df[df['Class']==0]\n",
    "class_1 = df[df['Class']==1]\n",
    "\n",
    "data = pd.concat([class_0, class_1])\n",
    "train_data = data.iloc[100:-100]\n",
    "test_data = pd.concat([data.iloc[:100], data.iloc[-100:]])\n",
    "train_data = train_data.sample(frac=1)\n",
    "test_data = test_data.sample(frac=1)"
   ]
  },
  {
   "cell_type": "code",
   "execution_count": 16,
   "metadata": {},
   "outputs": [
    {
     "name": "stderr",
     "output_type": "stream",
     "text": [
      "C:\\Users\\DS\\Anaconda3\\lib\\site-packages\\sklearn\\linear_model\\logistic.py:433: FutureWarning: Default solver will be changed to 'lbfgs' in 0.22. Specify a solver to silence this warning.\n",
      "  FutureWarning)\n"
     ]
    },
    {
     "name": "stdout",
     "output_type": "stream",
     "text": [
      "[0 0 0 0 0 0 0 0 0 0 0 0 0 0 0 0 0 0 0 0 0 0 0 0 0 0 0 0 0 0 0 0 0 0 0 0 0\n",
      " 0 0 0 0 0 0 0 0 0 0 0 0 0 0 0 0 0 0 0 0 0 0 0 0 0 0 0 0 0 0 0 1 0 0 0 0 0\n",
      " 0 0 1 0 0 0 0 0 0 0 0 0 0 0 0 0 0 0 0 0 0 0 0 0 0 0 0 0 0 0 0 0 0 0 0 0 0\n",
      " 0 1 0 0 0 0 0 0 0 0 0 0 0 0 0 0 0 0 0 0 0 0 0 0 0 0 0 0 0 0 0 0 0 0 0 0 0\n",
      " 0 0 0 0 0 0 0 0 0 0 0 0 0 0 0 0 0 0 0 0 0 0 0 0 0 1 0 0 0 0 0 0 0 0 0 0 0\n",
      " 0 0 0 0 0 0 0 0 0 0 0 0 0 0 0]\n",
      "0.52\n"
     ]
    }
   ],
   "source": [
    "x_train = train_data.loc[:, 'Time':'Amount']\n",
    "y_train = train_data.loc[:, 'Class']\n",
    "\n",
    "x_test = test_data.loc[:, 'Time':'Amount']\n",
    "y_test = test_data.loc[:, 'Class']\n",
    "\n",
    "model = linear_model.LogisticRegression()\n",
    "model.fit(x_train, y_train)\n",
    "\n",
    "y_pred=model.predict(x_test)\n",
    "print(y_pred)\n",
    "cnt =0\n",
    "for i in range(len(y_pred)):\n",
    "    if y_pred[i] == y_test.iloc[i]: cnt +=1\n",
    "print(cnt/len(y_pred))"
   ]
  },
  {
   "cell_type": "code",
   "execution_count": 17,
   "metadata": {},
   "outputs": [
    {
     "name": "stdout",
     "output_type": "stream",
     "text": [
      "[0 0 0 0 0 0 0 0 0 0 0 0 0 0 0 0 0 0 0 0 0 0 0 0 0 0 0 0 0 0 0 0 0 0 0 0 0\n",
      " 0 0 0 0 0 0 0 0 0 0 0 0 0 0 0 0 0 0 0 0 0 0 0 0 0 0 0 0 0 0 0 0 0 0 0 0 0\n",
      " 0 0 0 0 0 0 0 0 0 0 0 0 0 0 0 0 0 0 0 0 0 0 0 0 0 0 0 0 0 0 0 0 0 0 0 0 0\n",
      " 0 0 0 0 0 0 0 0 0 0 0 0 0 0 0 0 0 0 0 0 0 0 0 0 0 0 0 0 0 0 0 0 0 0 0 0 0\n",
      " 0 0 0 0 0 0 0 0 0 0 0 0 0 0 0 0 0 0 0 0 0 0 0 0 0 0 0 0 0 0 0 0 0 0 0 0 0\n",
      " 0 0 0 0 0 0 0 0 0 0 0 0 0 0 0]\n",
      "0.5\n"
     ]
    }
   ],
   "source": [
    "model = svm.SVC(gamma = 'scale')\n",
    "model.fit(x_train, y_train)\n",
    "\n",
    "y_pred=model.predict(x_test)\n",
    "print(y_pred)\n",
    "cnt =0\n",
    "for i in range(len(y_pred)):\n",
    "    if y_pred[i] == y_test.iloc[i]: cnt +=1\n",
    "print(cnt/len(y_pred))"
   ]
  },
  {
   "cell_type": "code",
   "execution_count": 20,
   "metadata": {},
   "outputs": [
    {
     "name": "stdout",
     "output_type": "stream",
     "text": [
      "[1 0 0 0 1 1 0 1 0 0 0 0 1 0 0 0 0 1 1 1 1 0 0 0 0 0 0 0 0 0 0 0 1 0 0 1 0\n",
      " 1 0 1 1 0 0 0 1 0 0 0 1 1 1 0 0 0 0 1 1 0 0 0 0 1 0 0 0 0 1 0 1 0 1 1 0 0\n",
      " 0 0 1 0 0 1 0 1 0 0 0 0 0 0 1 0 0 1 0 0 0 0 0 0 0 0 0 0 0 0 0 0 1 1 0 0 1\n",
      " 0 1 0 0 0 1 0 0 0 0 0 0 0 0 1 0 0 1 0 0 0 1 0 0 0 1 1 1 1 0 0 1 0 0 1 0 0\n",
      " 0 0 0 0 1 0 0 0 1 1 0 0 0 0 1 1 0 0 0 0 0 0 0 1 0 1 0 0 0 0 0 0 0 1 0 1 1\n",
      " 0 0 0 0 0 0 0 1 1 0 1 0 1 0 0]\n",
      "0.78\n"
     ]
    }
   ],
   "source": [
    "model = tree.DecisionTreeClassifier()\n",
    "model.fit(x_train, y_train)\n",
    "\n",
    "y_pred=model.predict(x_test)\n",
    "print(y_pred)\n",
    "cnt =0\n",
    "for i in range(len(y_pred)):\n",
    "    if y_pred[i] == y_test.iloc[i]: cnt +=1\n",
    "print(cnt/len(y_pred))"
   ]
  },
  {
   "cell_type": "code",
   "execution_count": 21,
   "metadata": {},
   "outputs": [
    {
     "name": "stdout",
     "output_type": "stream",
     "text": [
      "[0 0 0 0 0 0 0 0 0 0 0 0 0 0 0 0 0 0 0 0 0 0 0 0 0 0 0 0 0 0 0 0 0 0 0 0 0\n",
      " 0 0 0 0 0 0 0 0 0 0 0 0 0 0 0 0 0 0 0 0 0 0 0 0 0 0 0 0 0 0 0 0 0 0 0 0 0\n",
      " 0 0 0 0 0 0 0 0 0 0 0 0 0 0 0 0 0 0 0 0 0 0 0 0 0 0 0 0 0 0 0 0 0 0 0 0 0\n",
      " 0 0 0 0 0 0 0 0 0 0 0 0 0 0 0 0 0 0 0 0 0 0 0 0 0 0 0 0 0 0 0 0 0 0 0 0 0\n",
      " 0 0 0 0 0 0 0 0 0 0 0 0 0 0 0 0 0 0 0 0 0 0 0 0 0 0 0 0 0 0 0 0 0 0 0 0 0\n",
      " 0 0 0 0 0 0 0 0 0 0 0 0 0 0 0]\n",
      "0.5\n"
     ]
    }
   ],
   "source": [
    "model = neural_network.MLPClassifier(learning_rate_init=0.01)\n",
    "model.fit(x_train, y_train)\n",
    "\n",
    "y_pred=model.predict(x_test)\n",
    "print(y_pred)\n",
    "cnt =0\n",
    "for i in range(len(y_pred)):\n",
    "    if y_pred[i] == y_test.iloc[i]: cnt +=1\n",
    "print(cnt/len(y_pred))"
   ]
  },
  {
   "cell_type": "code",
   "execution_count": null,
   "metadata": {},
   "outputs": [],
   "source": []
  }
 ],
 "metadata": {
  "kernelspec": {
   "display_name": "Python 3",
   "language": "python",
   "name": "python3"
  },
  "language_info": {
   "codemirror_mode": {
    "name": "ipython",
    "version": 3
   },
   "file_extension": ".py",
   "mimetype": "text/x-python",
   "name": "python",
   "nbconvert_exporter": "python",
   "pygments_lexer": "ipython3",
   "version": "3.7.3"
  }
 },
 "nbformat": 4,
 "nbformat_minor": 2
}
